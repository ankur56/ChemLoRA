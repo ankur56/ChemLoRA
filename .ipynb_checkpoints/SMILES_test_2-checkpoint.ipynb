{
 "cells": [
  {
   "cell_type": "code",
   "execution_count": 1,
   "id": "42bbdc9b",
   "metadata": {},
   "outputs": [
    {
     "name": "stderr",
     "output_type": "stream",
     "text": [
      "/u/g/m/gmerz2/miniconda3/envs/chemGPT/lib/python3.10/site-packages/tqdm/auto.py:22: TqdmWarning: IProgress not found. Please update jupyter and ipywidgets. See https://ipywidgets.readthedocs.io/en/stable/user_install.html\n",
      "  from .autonotebook import tqdm as notebook_tqdm\n"
     ]
    }
   ],
   "source": [
    "from sklearn.model_selection import train_test_split\n",
    "import pandas as pd\n",
    "import pickle\n",
    "from loguru import logger\n",
    "\n",
    "import gptchem\n",
    "from gptchem.tuner import Tuner\n",
    "from gptchem.formatter import RegressionFormatter\n",
    "from gptchem.querier import Querier\n",
    "from gptchem.extractor import RegressionExtractor\n",
    "\n",
    "with open(\"qm9_key_smiles_0_val_u0_atom_b3lyp.pickle\", \"rb\") as handle:\n",
    "        qm9_data = pickle.load(handle)\n",
    "\n",
    "def split_dictionary(input_dict, chunk_size):\n",
    "    res = []\n",
    "    new_dict = {}\n",
    "    for k, v in input_dict.items():\n",
    "        if len(new_dict) < chunk_size:\n",
    "            new_dict[k] = v\n",
    "        else:\n",
    "            res.append(new_dict)\n",
    "            new_dict = {k: v}\n",
    "    res.append(new_dict)\n",
    "    return res"
   ]
  },
  {
   "cell_type": "code",
   "execution_count": null,
   "id": "dda828aa",
   "metadata": {},
   "outputs": [],
   "source": [
    "for i, mydict in split_dictionary(input_dict, chunk_size):\n",
    "    qm9_data_pd = pd.DataFrame(list(qm9_data.items()), columns=[\"SMILES\", \"B3LYP atomization energy in kcal/mol\"])\n",
    "\n",
    "    # encode the data into prompts and completions\n",
    "    formatter = RegressionFormatter(representation_column='SMILES',\n",
    "        label_column='B3LYP atomization energy in kcal/mol',\n",
    "        property_name='atomization energy in kcal/mol',\n",
    "        num_digits=4\n",
    "        )\n",
    "\n",
    "    formatted_data = formatter.format_many(qm9_data_pd)\n",
    "\n",
    "    # split the data into training and test set\n",
    "    train, test = train_test_split(formatted_data, test_size=0.1, random_state=42)\n",
    "\n",
    "    # enable gptchem logging\n",
    "    logger.enable(\"gptchem\")\n",
    "\n",
    "    # define the logging level\n",
    "    LEVEL = \"DEBUG\"\n",
    "    logger.add(\"my_log_file.log\", level=LEVEL, enqueue=True)\n",
    "\n",
    "    # initialize the tuner\n",
    "    tuner = Tuner()\n",
    "    tune_summary = tuner(train)\n",
    "\n",
    "    print(tune_summary)\n",
    "\n",
    "    # initialize the querier\n",
    "    querier = Querier('ada') # use the model called 'ada'\n",
    "\n",
    "    # get the completions (assuming the test frame we created above)\n",
    "    completions = querier(test)\n",
    "\n",
    "    # extract the predictions\n",
    "    extractor = RegressionExtractor()\n",
    "    predictions = extractor(completions)\n",
    "    print(predictions)\n",
    "    metrics = gptchem.evaluator.get_regression_metrics(predictions, test['label'])\n",
    "    print(metrics)"
   ]
  },
  {
   "cell_type": "code",
   "execution_count": null,
   "id": "6aadc353",
   "metadata": {},
   "outputs": [],
   "source": []
  },
  {
   "cell_type": "code",
   "execution_count": null,
   "id": "d2152fed",
   "metadata": {},
   "outputs": [],
   "source": []
  }
 ],
 "metadata": {
  "kernelspec": {
   "display_name": "chemGPT",
   "language": "python",
   "name": "chemgpt"
  },
  "language_info": {
   "codemirror_mode": {
    "name": "ipython",
    "version": 3
   },
   "file_extension": ".py",
   "mimetype": "text/x-python",
   "name": "python",
   "nbconvert_exporter": "python",
   "pygments_lexer": "ipython3",
   "version": "3.10.9"
  }
 },
 "nbformat": 4,
 "nbformat_minor": 5
}
