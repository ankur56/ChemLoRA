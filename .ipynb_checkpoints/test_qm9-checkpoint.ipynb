{
 "cells": [
  {
   "cell_type": "code",
   "execution_count": 41,
   "metadata": {},
   "outputs": [],
   "source": [
    "import pandas as pd \n",
    "\n",
    "from gptchem.gpt_classifier import GPTClassifier\n",
    "from gptchem.tuner import Tuner\n",
    "\n",
    "from sklearn.model_selection import train_test_split\n",
    "\n",
    "from pycm import ConfusionMatrix\n",
    "\n",
    "import matplotlib.pyplot as plt\n",
    "\n",
    "from scipy.stats import pearsonr"
   ]
  },
  {
   "cell_type": "code",
   "execution_count": 16,
   "metadata": {},
   "outputs": [],
   "source": [
    "df = pd.read_json('/Users/kevinmaikjablonka/Downloads/train.jsonl',  lines=True)"
   ]
  },
  {
   "cell_type": "code",
   "execution_count": 17,
   "metadata": {},
   "outputs": [
    {
     "data": {
      "text/html": [
       "<div>\n",
       "<style scoped>\n",
       "    .dataframe tbody tr th:only-of-type {\n",
       "        vertical-align: middle;\n",
       "    }\n",
       "\n",
       "    .dataframe tbody tr th {\n",
       "        vertical-align: top;\n",
       "    }\n",
       "\n",
       "    .dataframe thead th {\n",
       "        text-align: right;\n",
       "    }\n",
       "</style>\n",
       "<table border=\"1\" class=\"dataframe\">\n",
       "  <thead>\n",
       "    <tr style=\"text-align: right;\">\n",
       "      <th></th>\n",
       "      <th>prompt</th>\n",
       "      <th>completion</th>\n",
       "      <th>label</th>\n",
       "      <th>representation</th>\n",
       "    </tr>\n",
       "  </thead>\n",
       "  <tbody>\n",
       "    <tr>\n",
       "      <th>0</th>\n",
       "      <td>What is the atomization energy in kcal/mol of ...</td>\n",
       "      <td>-2095.4728@@@</td>\n",
       "      <td>-2095.4728</td>\n",
       "      <td>CC1=CC(CC1)N1CC1</td>\n",
       "    </tr>\n",
       "    <tr>\n",
       "      <th>1</th>\n",
       "      <td>What is the atomization energy in kcal/mol of ...</td>\n",
       "      <td>-1304.4795@@@</td>\n",
       "      <td>-1304.4795</td>\n",
       "      <td>CC1NC1C(F)(F)F</td>\n",
       "    </tr>\n",
       "    <tr>\n",
       "      <th>2</th>\n",
       "      <td>What is the atomization energy in kcal/mol of ...</td>\n",
       "      <td>-2182.1625@@@</td>\n",
       "      <td>-2182.1625</td>\n",
       "      <td>CC1C2CCC1(O)CC2</td>\n",
       "    </tr>\n",
       "    <tr>\n",
       "      <th>3</th>\n",
       "      <td>What is the atomization energy in kcal/mol of ...</td>\n",
       "      <td>-2087.3949@@@</td>\n",
       "      <td>-2087.3949</td>\n",
       "      <td>CC1N2C3CCC1(C)C23</td>\n",
       "    </tr>\n",
       "    <tr>\n",
       "      <th>4</th>\n",
       "      <td>What is the atomization energy in kcal/mol of ...</td>\n",
       "      <td>-2362.764@@@</td>\n",
       "      <td>-2362.7640</td>\n",
       "      <td>CC1=CCCCC1(C)C</td>\n",
       "    </tr>\n",
       "    <tr>\n",
       "      <th>...</th>\n",
       "      <td>...</td>\n",
       "      <td>...</td>\n",
       "      <td>...</td>\n",
       "      <td>...</td>\n",
       "    </tr>\n",
       "    <tr>\n",
       "      <th>1297</th>\n",
       "      <td>What is the atomization energy in kcal/mol of ...</td>\n",
       "      <td>-1474.9612@@@</td>\n",
       "      <td>-1474.9612</td>\n",
       "      <td>OC1=NOC=C1CC#C</td>\n",
       "    </tr>\n",
       "    <tr>\n",
       "      <th>1298</th>\n",
       "      <td>What is the atomization energy in kcal/mol of ...</td>\n",
       "      <td>-1758.422@@@</td>\n",
       "      <td>-1758.4220</td>\n",
       "      <td>OCC12C3CN4C(C13)C24</td>\n",
       "    </tr>\n",
       "    <tr>\n",
       "      <th>1299</th>\n",
       "      <td>What is the atomization energy in kcal/mol of ...</td>\n",
       "      <td>-1214.5437@@@</td>\n",
       "      <td>-1214.5437</td>\n",
       "      <td>OC1=CC=C(O)N1</td>\n",
       "    </tr>\n",
       "    <tr>\n",
       "      <th>1300</th>\n",
       "      <td>What is the atomization energy in kcal/mol of ...</td>\n",
       "      <td>-1610.938@@@</td>\n",
       "      <td>-1610.9380</td>\n",
       "      <td>O=C1OCCC11CC1</td>\n",
       "    </tr>\n",
       "    <tr>\n",
       "      <th>1301</th>\n",
       "      <td>What is the atomization energy in kcal/mol of ...</td>\n",
       "      <td>-1572.8118@@@</td>\n",
       "      <td>-1572.8118</td>\n",
       "      <td>CC(O)C1=CC(O)=NO1</td>\n",
       "    </tr>\n",
       "  </tbody>\n",
       "</table>\n",
       "<p>1302 rows × 4 columns</p>\n",
       "</div>"
      ],
      "text/plain": [
       "                                                 prompt      completion  \\\n",
       "0     What is the atomization energy in kcal/mol of ...   -2095.4728@@@   \n",
       "1     What is the atomization energy in kcal/mol of ...   -1304.4795@@@   \n",
       "2     What is the atomization energy in kcal/mol of ...   -2182.1625@@@   \n",
       "3     What is the atomization energy in kcal/mol of ...   -2087.3949@@@   \n",
       "4     What is the atomization energy in kcal/mol of ...    -2362.764@@@   \n",
       "...                                                 ...             ...   \n",
       "1297  What is the atomization energy in kcal/mol of ...   -1474.9612@@@   \n",
       "1298  What is the atomization energy in kcal/mol of ...    -1758.422@@@   \n",
       "1299  What is the atomization energy in kcal/mol of ...   -1214.5437@@@   \n",
       "1300  What is the atomization energy in kcal/mol of ...    -1610.938@@@   \n",
       "1301  What is the atomization energy in kcal/mol of ...   -1572.8118@@@   \n",
       "\n",
       "          label       representation  \n",
       "0    -2095.4728     CC1=CC(CC1)N1CC1  \n",
       "1    -1304.4795       CC1NC1C(F)(F)F  \n",
       "2    -2182.1625      CC1C2CCC1(O)CC2  \n",
       "3    -2087.3949    CC1N2C3CCC1(C)C23  \n",
       "4    -2362.7640       CC1=CCCCC1(C)C  \n",
       "...         ...                  ...  \n",
       "1297 -1474.9612       OC1=NOC=C1CC#C  \n",
       "1298 -1758.4220  OCC12C3CN4C(C13)C24  \n",
       "1299 -1214.5437        OC1=CC=C(O)N1  \n",
       "1300 -1610.9380        O=C1OCCC11CC1  \n",
       "1301 -1572.8118    CC(O)C1=CC(O)=NO1  \n",
       "\n",
       "[1302 rows x 4 columns]"
      ]
     },
     "execution_count": 17,
     "metadata": {},
     "output_type": "execute_result"
    }
   ],
   "source": [
    "df"
   ]
  },
  {
   "cell_type": "code",
   "execution_count": 22,
   "metadata": {},
   "outputs": [],
   "source": [
    "df['bin'] = pd.qcut(df['label'], 2, [0,1])"
   ]
  },
  {
   "cell_type": "code",
   "execution_count": 23,
   "metadata": {},
   "outputs": [],
   "source": [
    "df_train, df_test = train_test_split(df, test_size=100, train_size=100, random_state=42)"
   ]
  },
  {
   "cell_type": "code",
   "execution_count": 24,
   "metadata": {},
   "outputs": [],
   "source": [
    "classifier = GPTClassifier(\n",
    "    property_name=\"atomization energy\", # this is the property name we will use in the prompt template\n",
    "    tuner=Tuner(n_epochs=8, learning_rate_multiplier=0.02, wandb_sync=False),\n",
    ")"
   ]
  },
  {
   "cell_type": "code",
   "execution_count": 25,
   "metadata": {},
   "outputs": [
    {
     "name": "stderr",
     "output_type": "stream",
     "text": [
      "Upload progress: 100%|██████████| 13.3k/13.3k [00:00<00:00, 18.7Mit/s]\n"
     ]
    },
    {
     "name": "stdout",
     "output_type": "stream",
     "text": [
      "Uploaded file from /Users/kevinmaikjablonka/LSMO Dropbox/Kevin Jablonka/small_tests/gptchem_qm9/out/20230330_071144/train.jsonl: file-DtRiwlypZG5kDHzFqcAeNHrA\n"
     ]
    }
   ],
   "source": [
    "classifier.fit(df_train['representation'].values, df_train['bin'].values)"
   ]
  },
  {
   "cell_type": "code",
   "execution_count": 26,
   "metadata": {},
   "outputs": [],
   "source": [
    "predictions = classifier.predict(df_test['representation'].values)"
   ]
  },
  {
   "cell_type": "code",
   "execution_count": 27,
   "metadata": {},
   "outputs": [
    {
     "data": {
      "text/plain": [
       "(#100) [0,0,1,0,1,0,1,0,1,0...]"
      ]
     },
     "execution_count": 27,
     "metadata": {},
     "output_type": "execute_result"
    }
   ],
   "source": [
    "predictions"
   ]
  },
  {
   "cell_type": "code",
   "execution_count": 33,
   "metadata": {},
   "outputs": [
    {
     "name": "stdout",
     "output_type": "stream",
     "text": [
      "Predict  0        1        \n",
      "Actual\n",
      "0        42       10       \n",
      "\n",
      "1        14       34       \n",
      "\n",
      "\n",
      "\n",
      "\n",
      "\n",
      "Overall Statistics : \n",
      "\n",
      "95% CI                                                            (0.67629,0.84371)\n",
      "ACC Macro                                                         0.76\n",
      "ARI                                                               0.26306\n",
      "AUNP                                                              0.75801\n",
      "AUNU                                                              0.75801\n",
      "Bangdiwala B                                                      0.58121\n",
      "Bennett S                                                         0.52\n",
      "CBA                                                               0.72917\n",
      "CSI                                                               0.51938\n",
      "Chi-Squared                                                       26.97407\n",
      "Chi-Squared DF                                                    1\n",
      "Conditional Entropy                                               0.78528\n",
      "Cramer V                                                          0.51937\n",
      "Cross Entropy                                                     1.0035\n",
      "F1 Macro                                                          0.75845\n",
      "F1 Micro                                                          0.76\n",
      "FNR Macro                                                         0.24199\n",
      "FNR Micro                                                         0.24\n",
      "FPR Macro                                                         0.24199\n",
      "FPR Micro                                                         0.24\n",
      "Gwet AC1                                                          0.52305\n",
      "Hamming Loss                                                      0.24\n",
      "Joint Entropy                                                     1.78412\n",
      "KL Divergence                                                     0.00466\n",
      "Kappa                                                             0.51768\n",
      "Kappa 95% CI                                                      (0.34946,0.68591)\n",
      "Kappa No Prevalence                                               0.52\n",
      "Kappa Standard Error                                              0.08583\n",
      "Kappa Unbiased                                                    0.51691\n",
      "Krippendorff Alpha                                                0.51932\n",
      "Lambda A                                                          0.5\n",
      "Lambda B                                                          0.45455\n",
      "Mutual Information                                                0.20431\n",
      "NIR                                                               0.52\n",
      "Overall ACC                                                       0.76\n",
      "Overall CEN                                                       0.72819\n",
      "Overall J                                                         (1.22257,0.61129)\n",
      "Overall MCC                                                       0.51937\n",
      "Overall MCEN                                                      0.56306\n",
      "Overall RACC                                                      0.5024\n",
      "Overall RACCU                                                     0.5032\n",
      "P-Value                                                           0.0\n",
      "PPV Macro                                                         0.76136\n",
      "PPV Micro                                                         0.76\n",
      "Pearson C                                                         0.46091\n",
      "Phi-Squared                                                       0.26974\n",
      "RCI                                                               0.20455\n",
      "RR                                                                50.0\n",
      "Reference Entropy                                                 0.99885\n",
      "Response Entropy                                                  0.98959\n",
      "SOA1(Landis & Koch)                                               Moderate\n",
      "SOA2(Fleiss)                                                      Intermediate to Good\n",
      "SOA3(Altman)                                                      Moderate\n",
      "SOA4(Cicchetti)                                                   Fair\n",
      "SOA5(Cramer)                                                      Relatively Strong\n",
      "SOA6(Matthews)                                                    Moderate\n",
      "Scott PI                                                          0.51691\n",
      "Standard Error                                                    0.04271\n",
      "TNR Macro                                                         0.75801\n",
      "TNR Micro                                                         0.76\n",
      "TPR Macro                                                         0.75801\n",
      "TPR Micro                                                         0.76\n",
      "Zero-one Loss                                                     24\n",
      "\n",
      "Class Statistics :\n",
      "\n",
      "Classes                                                           0             1             \n",
      "ACC(Accuracy)                                                     0.76          0.76          \n",
      "AGF(Adjusted F-score)                                             0.77698       0.74033       \n",
      "AGM(Adjusted geometric mean)                                      0.7408        0.77394       \n",
      "AM(Difference between automatic and manual classification)        4             -4            \n",
      "AUC(Area under the ROC curve)                                     0.75801       0.75801       \n",
      "AUCI(AUC value interpretation)                                    Good          Good          \n",
      "AUPR(Area under the PR curve)                                     0.77885       0.74053       \n",
      "BB(Braun-Blanquet similarity)                                     0.75          0.70833       \n",
      "BCD(Bray-Curtis dissimilarity)                                    0.02          0.02          \n",
      "BM(Informedness or bookmaker informedness)                        0.51603       0.51603       \n",
      "CEN(Confusion entropy)                                            0.69995       0.76134       \n",
      "DOR(Diagnostic odds ratio)                                        10.2          10.2          \n",
      "DP(Discriminant power)                                            0.55607       0.55607       \n",
      "DPI(Discriminant power interpretation)                            Poor          Poor          \n",
      "ERR(Error rate)                                                   0.24          0.24          \n",
      "F0.5(F0.5 score)                                                  0.76087       0.75893       \n",
      "F1(F1 score - harmonic mean of precision and sensitivity)         0.77778       0.73913       \n",
      "F2(F2 score)                                                      0.79545       0.72034       \n",
      "FDR(False discovery rate)                                         0.25          0.22727       \n",
      "FN(False negative/miss/type 2 error)                              10            14            \n",
      "FNR(Miss rate or false negative rate)                             0.19231       0.29167       \n",
      "FOR(False omission rate)                                          0.22727       0.25          \n",
      "FP(False positive/type 1 error/false alarm)                       14            10            \n",
      "FPR(Fall-out or false positive rate)                              0.29167       0.19231       \n",
      "G(G-measure geometric mean of precision and sensitivity)          0.77831       0.73983       \n",
      "GI(Gini index)                                                    0.51603       0.51603       \n",
      "GM(G-mean geometric mean of specificity and sensitivity)          0.75638       0.75638       \n",
      "HD(Hamming distance)                                              24            24            \n",
      "IBA(Index of balanced accuracy)                                   0.62896       0.51527       \n",
      "ICSI(Individual classification success index)                     0.55769       0.48106       \n",
      "IS(Information score)                                             0.52838       0.68692       \n",
      "J(Jaccard index)                                                  0.63636       0.58621       \n",
      "LS(Lift score)                                                    1.44231       1.60985       \n",
      "MCC(Matthews correlation coefficient)                             0.51937       0.51937       \n",
      "MCCI(Matthews correlation coefficient interpretation)             Moderate      Moderate      \n",
      "MCEN(Modified confusion entropy)                                  0.88702       0.93223       \n",
      "MK(Markedness)                                                    0.52273       0.52273       \n",
      "N(Condition negative)                                             48            52            \n",
      "NLR(Negative likelihood ratio)                                    0.27149       0.36111       \n",
      "NLRI(Negative likelihood ratio interpretation)                    Poor          Poor          \n",
      "NPV(Negative predictive value)                                    0.77273       0.75          \n",
      "OC(Overlap coefficient)                                           0.80769       0.77273       \n",
      "OOC(Otsuka-Ochiai coefficient)                                    0.77831       0.73983       \n",
      "OP(Optimized precision)                                           0.69446       0.69446       \n",
      "P(Condition positive or support)                                  52            48            \n",
      "PLR(Positive likelihood ratio)                                    2.76923       3.68333       \n",
      "PLRI(Positive likelihood ratio interpretation)                    Poor          Poor          \n",
      "POP(Population)                                                   100           100           \n",
      "PPV(Precision or positive predictive value)                       0.75          0.77273       \n",
      "PRE(Prevalence)                                                   0.52          0.48          \n",
      "Q(Yule Q - coefficient of colligation)                            0.82143       0.82143       \n",
      "QI(Yule Q interpretation)                                         Strong        Strong        \n",
      "RACC(Random accuracy)                                             0.2912        0.2112        \n",
      "RACCU(Random accuracy unbiased)                                   0.2916        0.2116        \n",
      "TN(True negative/correct rejection)                               34            42            \n",
      "TNR(Specificity or true negative rate)                            0.70833       0.80769       \n",
      "TON(Test outcome negative)                                        44            56            \n",
      "TOP(Test outcome positive)                                        56            44            \n",
      "TP(True positive/hit)                                             42            34            \n",
      "TPR(Sensitivity, recall, hit rate, or true positive rate)         0.80769       0.70833       \n",
      "Y(Youden index)                                                   0.51603       0.51603       \n",
      "dInd(Distance index)                                              0.34936       0.34936       \n",
      "sInd(Similarity index)                                            0.75297       0.75297       \n",
      "\n"
     ]
    }
   ],
   "source": [
    "print(ConfusionMatrix(df_test['bin'].tolist(), list(predictions)))"
   ]
  },
  {
   "cell_type": "markdown",
   "metadata": {},
   "source": [
    "# Regression "
   ]
  },
  {
   "cell_type": "code",
   "execution_count": 34,
   "metadata": {},
   "outputs": [],
   "source": [
    "from gptchem.gpt_regressor import GPTRegressor"
   ]
  },
  {
   "cell_type": "code",
   "execution_count": 35,
   "metadata": {},
   "outputs": [
    {
     "name": "stdout",
     "output_type": "stream",
     "text": [
      "\u001b[0;31mInit signature:\u001b[0m\n",
      "\u001b[0mGPTRegressor\u001b[0m\u001b[0;34m(\u001b[0m\u001b[0;34m\u001b[0m\n",
      "\u001b[0;34m\u001b[0m    \u001b[0mproperty_name\u001b[0m\u001b[0;34m:\u001b[0m \u001b[0mstr\u001b[0m\u001b[0;34m,\u001b[0m\u001b[0;34m\u001b[0m\n",
      "\u001b[0;34m\u001b[0m    \u001b[0mtuner\u001b[0m\u001b[0;34m:\u001b[0m \u001b[0mgptchem\u001b[0m\u001b[0;34m.\u001b[0m\u001b[0mtuner\u001b[0m\u001b[0;34m.\u001b[0m\u001b[0mTuner\u001b[0m\u001b[0;34m,\u001b[0m\u001b[0;34m\u001b[0m\n",
      "\u001b[0;34m\u001b[0m    \u001b[0mquerier_settings\u001b[0m\u001b[0;34m:\u001b[0m \u001b[0mOptional\u001b[0m\u001b[0;34m[\u001b[0m\u001b[0mdict\u001b[0m\u001b[0;34m]\u001b[0m \u001b[0;34m=\u001b[0m \u001b[0;32mNone\u001b[0m\u001b[0;34m,\u001b[0m\u001b[0;34m\u001b[0m\n",
      "\u001b[0;34m\u001b[0m    \u001b[0mextractor\u001b[0m\u001b[0;34m:\u001b[0m \u001b[0mgptchem\u001b[0m\u001b[0;34m.\u001b[0m\u001b[0mextractor\u001b[0m\u001b[0;34m.\u001b[0m\u001b[0mRegressionExtractor\u001b[0m \u001b[0;34m=\u001b[0m \u001b[0;34m<\u001b[0m\u001b[0mgptchem\u001b[0m\u001b[0;34m.\u001b[0m\u001b[0mextractor\u001b[0m\u001b[0;34m.\u001b[0m\u001b[0mRegressionExtractor\u001b[0m\u001b[0;34m>\u001b[0m\u001b[0;34m,\u001b[0m\u001b[0;34m\u001b[0m\n",
      "\u001b[0;34m\u001b[0m\u001b[0;34m)\u001b[0m\u001b[0;34m\u001b[0m\u001b[0;34m\u001b[0m\u001b[0m\n",
      "\u001b[0;31mDocstring:\u001b[0m      Wrapper around GPT-3 fine tuning in style of a scikit-learn regressor.\n",
      "\u001b[0;31mInit docstring:\u001b[0m\n",
      "Initialize a GPTRegressor.\n",
      "\n",
      "Args:\n",
      "    property_name (str): Name of the property to be predicted.\n",
      "       This will be part of the prompt.\n",
      "    tuner (Tuner): Tuner object to be used for fine tuning.\n",
      "       This specifies the model to be used and the fine-tuning settings.\n",
      "    querier_settings (Optional[dict], optional): Settings for the querier.\n",
      "        Defaults to None.\n",
      "    extractor (RegressionExtractor, optional): Callable object that can extract\n",
      "        floats from the completions produced by the querier.\n",
      "        Defaults to RegressionExtractor().\n",
      "\u001b[0;31mFile:\u001b[0m           ~/git/kjappelbaum/gptchem/src/gptchem/gpt_regressor.py\n",
      "\u001b[0;31mType:\u001b[0m           type\n",
      "\u001b[0;31mSubclasses:\u001b[0m     \n"
     ]
    }
   ],
   "source": [
    "?GPTRegressor"
   ]
  },
  {
   "cell_type": "code",
   "execution_count": 36,
   "metadata": {},
   "outputs": [],
   "source": [
    "regressor = GPTRegressor('atomization energy', tuner=Tuner(n_epochs=8, learning_rate_multiplier=0.02, wandb_sync=False))"
   ]
  },
  {
   "cell_type": "code",
   "execution_count": 37,
   "metadata": {},
   "outputs": [
    {
     "name": "stderr",
     "output_type": "stream",
     "text": [
      "Upload progress: 100%|██████████| 14.7k/14.7k [00:00<00:00, 13.3Mit/s]\n"
     ]
    },
    {
     "name": "stdout",
     "output_type": "stream",
     "text": [
      "Uploaded file from /Users/kevinmaikjablonka/LSMO Dropbox/Kevin Jablonka/small_tests/gptchem_qm9/out/20230330_074129/train.jsonl: file-Od99faXcVfOtvEQJJzBKDS5t\n"
     ]
    }
   ],
   "source": [
    "regressor.fit(df_train['representation'].values, df_train['label'].values)"
   ]
  },
  {
   "cell_type": "code",
   "execution_count": 38,
   "metadata": {},
   "outputs": [],
   "source": [
    "predictions = regressor.predict(df_test['representation'].values)"
   ]
  },
  {
   "cell_type": "code",
   "execution_count": 40,
   "metadata": {},
   "outputs": [
    {
     "data": {
      "text/plain": [
       "<matplotlib.collections.PathCollection at 0x2ab7adca0>"
      ]
     },
     "execution_count": 40,
     "metadata": {},
     "output_type": "execute_result"
    },
    {
     "data": {
      "image/png": "[encoded data removed]",
      "text/plain": [
       "<Figure size 640x480 with 1 Axes>"
      ]
     },
     "metadata": {},
     "output_type": "display_data"
    }
   ],
   "source": [
    "plt.scatter(df_test['label'].values, predictions)"
   ]
  },
  {
   "cell_type": "code",
   "execution_count": 42,
   "metadata": {},
   "outputs": [
    {
     "data": {
      "text/plain": [
       "PearsonRResult(statistic=0.28480027668863434, pvalue=0.004079810901305013)"
      ]
     },
     "execution_count": 42,
     "metadata": {},
     "output_type": "execute_result"
    }
   ],
   "source": [
    "pearsonr(df_test['label'].values, predictions)"
   ]
  },
  {
   "cell_type": "code",
   "execution_count": null,
   "metadata": {},
   "outputs": [],
   "source": []
  }
 ],
 "metadata": {
  "kernelspec": {
   "display_name": "Python 3 (ipykernel)",
   "language": "python",
   "name": "python3"
  },
  "language_info": {
   "codemirror_mode": {
    "name": "ipython",
    "version": 3
   },
   "file_extension": ".py",
   "mimetype": "text/x-python",
   "name": "python",
   "nbconvert_exporter": "python",
   "pygments_lexer": "ipython3",
   "version": "3.10.9"
  }
 },
 "nbformat": 4,
 "nbformat_minor": 2
}
